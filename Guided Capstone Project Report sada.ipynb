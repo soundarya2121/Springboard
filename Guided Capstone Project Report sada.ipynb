{
 "cells": [
  {
   "cell_type": "code",
   "execution_count": null,
   "metadata": {},
   "outputs": [],
   "source": [
    "#Big Mountain Resort capestone project report\n",
    "#1 First step focuses on Problem identification and make a hypothesis of soution \n",
    "The problem is increasing cost of the resort due to installing chair lift. To increase in ticket price is the prescribed solution.\n",
    "\n",
    "#2 This step focuses on collecting  data, organizing it.Some data cleaning can be done at this stage.\n",
    "We had two kinds (weekend, weedday) of ticket price, a data error corrected, and some other rows dropped.\n",
    "\n",
    "#3 This step subsequently identified is to predict the adult weekend ticket price for ski resorts.\n",
    "predicting the adult weekend ticket price was your primary aim.\n",
    "\n",
    "#4 This step validate steps with functions for checking expected equivalence between, say, pandas and sklearn implementations.\n",
    "start to build machine learning models.\n",
    "\n",
    "#5 This step planned a  model for ski resort ticket price and leverage it to gain some insights into what price Big Mountain's facilities might actually support.\n",
    "Now use our model to gain insight into what Big Mountain's ideal ticket price could/should be, and how that might change under various scenarios.\n",
    "\n",
    "#Findings\n",
    "1.Close up to 10 of the least used runs.\n",
    "2.Big Mountain is adding a run, increasing the vertical drop by 150 feet, and installing an additional chair lift.\n",
    "3. By adding 2 acres of snow making.\n",
    "4. By increasing the longest run by .2 miles and guaranteeing its snow coverage by adding 4 acres of snow making capability.\n",
    "\n",
    "# This is the summary of Big Mountain Resort Ski area capstone project"
   ]
  },
  {
   "cell_type": "code",
   "execution_count": null,
   "metadata": {},
   "outputs": [],
   "source": [
    "\n",
    "\n"
   ]
  }
 ],
 "metadata": {
  "kernelspec": {
   "display_name": "Python 3",
   "language": "python",
   "name": "python3"
  },
  "language_info": {
   "codemirror_mode": {
    "name": "ipython",
    "version": 3
   },
   "file_extension": ".py",
   "mimetype": "text/x-python",
   "name": "python",
   "nbconvert_exporter": "python",
   "pygments_lexer": "ipython3",
   "version": "3.7.4"
  }
 },
 "nbformat": 4,
 "nbformat_minor": 2
}
