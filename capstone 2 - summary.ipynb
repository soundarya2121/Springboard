{
 "cells": [
  {
   "cell_type": "code",
   "execution_count": 1,
   "id": "d3dddb17",
   "metadata": {},
   "outputs": [],
   "source": [
    "import pandas as pd\n",
    "import numpy as np\n",
    "import matplotlib.pyplot as plt\n",
    "import seaborn as sns\n",
    "import pylab as pl\n",
    "from sklearn.ensemble import RandomForestClassifier\n",
    "from sklearn import metrics\n",
    "from sklearn.metrics import mean_absolute_error\n",
    "from sklearn.metrics import classification_report, confusion_matrix\n",
    "from sklearn.model_selection import train_test_split\n",
    "from sklearn.svm import SVC\n",
    "from sklearn import linear_model\n",
    "import warnings"
   ]
  },
  {
   "cell_type": "code",
   "execution_count": 5,
   "id": "7b5ba6e1",
   "metadata": {},
   "outputs": [
    {
     "data": {
      "text/html": [
       "<div>\n",
       "<style scoped>\n",
       "    .dataframe tbody tr th:only-of-type {\n",
       "        vertical-align: middle;\n",
       "    }\n",
       "\n",
       "    .dataframe tbody tr th {\n",
       "        vertical-align: top;\n",
       "    }\n",
       "\n",
       "    .dataframe thead th {\n",
       "        text-align: right;\n",
       "    }\n",
       "</style>\n",
       "<table border=\"1\" class=\"dataframe\">\n",
       "  <thead>\n",
       "    <tr style=\"text-align: right;\">\n",
       "      <th></th>\n",
       "      <th>UID</th>\n",
       "      <th>Name</th>\n",
       "      <th>Age</th>\n",
       "      <th>Gender</th>\n",
       "      <th>Race</th>\n",
       "      <th>Date</th>\n",
       "      <th>City</th>\n",
       "      <th>State</th>\n",
       "      <th>Manner_of_death</th>\n",
       "      <th>Armed</th>\n",
       "      <th>Mental_illness</th>\n",
       "      <th>Flee</th>\n",
       "    </tr>\n",
       "  </thead>\n",
       "  <tbody>\n",
       "    <tr>\n",
       "      <th>0</th>\n",
       "      <td>133</td>\n",
       "      <td>Karen O. Chin</td>\n",
       "      <td>44.0</td>\n",
       "      <td>Female</td>\n",
       "      <td>Asian</td>\n",
       "      <td>5/4/2000</td>\n",
       "      <td>Alameda</td>\n",
       "      <td>CA</td>\n",
       "      <td>Shot</td>\n",
       "      <td>NaN</td>\n",
       "      <td>False</td>\n",
       "      <td>False</td>\n",
       "    </tr>\n",
       "    <tr>\n",
       "      <th>1</th>\n",
       "      <td>169</td>\n",
       "      <td>Chyraphone Komvongsa</td>\n",
       "      <td>26.0</td>\n",
       "      <td>Male</td>\n",
       "      <td>Asian</td>\n",
       "      <td>6/2/2000</td>\n",
       "      <td>Fresno</td>\n",
       "      <td>CA</td>\n",
       "      <td>Shot</td>\n",
       "      <td>NaN</td>\n",
       "      <td>False</td>\n",
       "      <td>False</td>\n",
       "    </tr>\n",
       "    <tr>\n",
       "      <th>2</th>\n",
       "      <td>257</td>\n",
       "      <td>Ming Chinh Ly</td>\n",
       "      <td>36.0</td>\n",
       "      <td>Male</td>\n",
       "      <td>Asian</td>\n",
       "      <td>8/13/2000</td>\n",
       "      <td>Rosemead</td>\n",
       "      <td>CA</td>\n",
       "      <td>Shot</td>\n",
       "      <td>Gun</td>\n",
       "      <td>False</td>\n",
       "      <td>False</td>\n",
       "    </tr>\n",
       "    <tr>\n",
       "      <th>3</th>\n",
       "      <td>483</td>\n",
       "      <td>Kinh Quoc Dao</td>\n",
       "      <td>29.0</td>\n",
       "      <td>Male</td>\n",
       "      <td>Asian</td>\n",
       "      <td>2/9/2001</td>\n",
       "      <td>Valley Glen</td>\n",
       "      <td>CA</td>\n",
       "      <td>Shot</td>\n",
       "      <td>Gun</td>\n",
       "      <td>False</td>\n",
       "      <td>False</td>\n",
       "    </tr>\n",
       "    <tr>\n",
       "      <th>4</th>\n",
       "      <td>655</td>\n",
       "      <td>Vanpaseuth Phaisouphanh</td>\n",
       "      <td>25.0</td>\n",
       "      <td>Male</td>\n",
       "      <td>Asian</td>\n",
       "      <td>6/10/2001</td>\n",
       "      <td>Riverside</td>\n",
       "      <td>CA</td>\n",
       "      <td>Shot</td>\n",
       "      <td>Knife</td>\n",
       "      <td>False</td>\n",
       "      <td>False</td>\n",
       "    </tr>\n",
       "  </tbody>\n",
       "</table>\n",
       "</div>"
      ],
      "text/plain": [
       "   UID                     Name   Age  Gender   Race       Date         City  \\\n",
       "0  133            Karen O. Chin  44.0  Female  Asian   5/4/2000      Alameda   \n",
       "1  169     Chyraphone Komvongsa  26.0    Male  Asian   6/2/2000       Fresno   \n",
       "2  257            Ming Chinh Ly  36.0    Male  Asian  8/13/2000     Rosemead   \n",
       "3  483            Kinh Quoc Dao  29.0    Male  Asian   2/9/2001  Valley Glen   \n",
       "4  655  Vanpaseuth Phaisouphanh  25.0    Male  Asian  6/10/2001    Riverside   \n",
       "\n",
       "  State Manner_of_death  Armed  Mental_illness   Flee  \n",
       "0    CA            Shot    NaN           False  False  \n",
       "1    CA            Shot    NaN           False  False  \n",
       "2    CA            Shot    Gun           False  False  \n",
       "3    CA            Shot    Gun           False  False  \n",
       "4    CA            Shot  Knife           False  False  "
      ]
     },
     "execution_count": 5,
     "metadata": {},
     "output_type": "execute_result"
    }
   ],
   "source": [
    "data0 = pd.read_csv (r\"C:\\Users\\Admin\\Downloads\\Police Fatalities.csv\\Police Fatalities.csv\")\n",
    "data0.head()"
   ]
  },
  {
   "cell_type": "code",
   "execution_count": 6,
   "id": "48df1f9b",
   "metadata": {},
   "outputs": [
    {
     "data": {
      "text/html": [
       "<div>\n",
       "<style scoped>\n",
       "    .dataframe tbody tr th:only-of-type {\n",
       "        vertical-align: middle;\n",
       "    }\n",
       "\n",
       "    .dataframe tbody tr th {\n",
       "        vertical-align: top;\n",
       "    }\n",
       "\n",
       "    .dataframe thead th {\n",
       "        text-align: right;\n",
       "    }\n",
       "</style>\n",
       "<table border=\"1\" class=\"dataframe\">\n",
       "  <thead>\n",
       "    <tr style=\"text-align: right;\">\n",
       "      <th></th>\n",
       "      <th>State</th>\n",
       "      <th>City</th>\n",
       "      <th>Year</th>\n",
       "      <th>Population</th>\n",
       "      <th>Violent Crime</th>\n",
       "      <th>Murder</th>\n",
       "      <th>Rape</th>\n",
       "      <th>Robbery</th>\n",
       "      <th>Property Crime</th>\n",
       "      <th>Motor Vehicle Theft</th>\n",
       "    </tr>\n",
       "  </thead>\n",
       "  <tbody>\n",
       "    <tr>\n",
       "      <th>0</th>\n",
       "      <td>ALABAMA</td>\n",
       "      <td>HUNTSVILLE4</td>\n",
       "      <td>2018</td>\n",
       "      <td>196620</td>\n",
       "      <td>NaN</td>\n",
       "      <td>NaN</td>\n",
       "      <td>NaN</td>\n",
       "      <td>NaN</td>\n",
       "      <td>NaN</td>\n",
       "      <td>NaN</td>\n",
       "    </tr>\n",
       "    <tr>\n",
       "      <th>1</th>\n",
       "      <td>ALABAMA</td>\n",
       "      <td>HUNTSVILLE4</td>\n",
       "      <td>2019</td>\n",
       "      <td>196620</td>\n",
       "      <td>872.0</td>\n",
       "      <td>12.0</td>\n",
       "      <td>79.0</td>\n",
       "      <td>159.0</td>\n",
       "      <td>3854.0</td>\n",
       "      <td>496.0</td>\n",
       "    </tr>\n",
       "    <tr>\n",
       "      <th>2</th>\n",
       "      <td>ALABAMA</td>\n",
       "      <td>TUSCALOOSA</td>\n",
       "      <td>2018</td>\n",
       "      <td>101764</td>\n",
       "      <td>253.0</td>\n",
       "      <td>3.0</td>\n",
       "      <td>20.0</td>\n",
       "      <td>71.0</td>\n",
       "      <td>2092.0</td>\n",
       "      <td>109.0</td>\n",
       "    </tr>\n",
       "    <tr>\n",
       "      <th>3</th>\n",
       "      <td>ALABAMA</td>\n",
       "      <td>TUSCALOOSA</td>\n",
       "      <td>2019</td>\n",
       "      <td>101764</td>\n",
       "      <td>311.0</td>\n",
       "      <td>4.0</td>\n",
       "      <td>18.0</td>\n",
       "      <td>92.0</td>\n",
       "      <td>2166.0</td>\n",
       "      <td>147.0</td>\n",
       "    </tr>\n",
       "    <tr>\n",
       "      <th>4</th>\n",
       "      <td>ARIZONA</td>\n",
       "      <td>CHANDLER</td>\n",
       "      <td>2018</td>\n",
       "      <td>255986</td>\n",
       "      <td>287.0</td>\n",
       "      <td>1.0</td>\n",
       "      <td>74.0</td>\n",
       "      <td>62.0</td>\n",
       "      <td>2771.0</td>\n",
       "      <td>161.0</td>\n",
       "    </tr>\n",
       "  </tbody>\n",
       "</table>\n",
       "</div>"
      ],
      "text/plain": [
       "     State         City  Year  Population  Violent Crime  Murder  Rape  \\\n",
       "0  ALABAMA  HUNTSVILLE4  2018      196620            NaN     NaN   NaN   \n",
       "1  ALABAMA  HUNTSVILLE4  2019      196620          872.0    12.0  79.0   \n",
       "2  ALABAMA   TUSCALOOSA  2018      101764          253.0     3.0  20.0   \n",
       "3  ALABAMA   TUSCALOOSA  2019      101764          311.0     4.0  18.0   \n",
       "4  ARIZONA     CHANDLER  2018      255986          287.0     1.0  74.0   \n",
       "\n",
       "   Robbery  Property Crime  Motor Vehicle Theft  \n",
       "0      NaN             NaN                  NaN  \n",
       "1    159.0          3854.0                496.0  \n",
       "2     71.0          2092.0                109.0  \n",
       "3     92.0          2166.0                147.0  \n",
       "4     62.0          2771.0                161.0  "
      ]
     },
     "execution_count": 6,
     "metadata": {},
     "output_type": "execute_result"
    }
   ],
   "source": [
    "population1 = pd.read_csv(r\"C:\\Users\\Admin\\Downloads\\usa population/Crime Data USA 2019.csv\")\n",
    "population1.head()"
   ]
  },
  {
   "cell_type": "code",
   "execution_count": 24,
   "id": "a720810b",
   "metadata": {},
   "outputs": [
    {
     "data": {
      "text/html": [
       "<div>\n",
       "<style scoped>\n",
       "    .dataframe tbody tr th:only-of-type {\n",
       "        vertical-align: middle;\n",
       "    }\n",
       "\n",
       "    .dataframe tbody tr th {\n",
       "        vertical-align: top;\n",
       "    }\n",
       "\n",
       "    .dataframe thead th {\n",
       "        text-align: right;\n",
       "    }\n",
       "</style>\n",
       "<table border=\"1\" class=\"dataframe\">\n",
       "  <thead>\n",
       "    <tr style=\"text-align: right;\">\n",
       "      <th></th>\n",
       "      <th>State</th>\n",
       "      <th>City</th>\n",
       "      <th>Population</th>\n",
       "      <th>Age</th>\n",
       "      <th>Gender</th>\n",
       "      <th>Race</th>\n",
       "      <th>Manner_of_death</th>\n",
       "      <th>Armed</th>\n",
       "      <th>Mental_illness</th>\n",
       "      <th>Flee</th>\n",
       "      <th>Date</th>\n",
       "    </tr>\n",
       "  </thead>\n",
       "  <tbody>\n",
       "    <tr>\n",
       "      <th>0</th>\n",
       "      <td>alabama</td>\n",
       "      <td>huntsville4</td>\n",
       "      <td>196620</td>\n",
       "      <td>NaN</td>\n",
       "      <td>NaN</td>\n",
       "      <td>NaN</td>\n",
       "      <td>NaN</td>\n",
       "      <td>NaN</td>\n",
       "      <td>NaN</td>\n",
       "      <td>NaN</td>\n",
       "      <td>NaN</td>\n",
       "    </tr>\n",
       "    <tr>\n",
       "      <th>1</th>\n",
       "      <td>alabama</td>\n",
       "      <td>huntsville4</td>\n",
       "      <td>196620</td>\n",
       "      <td>NaN</td>\n",
       "      <td>NaN</td>\n",
       "      <td>NaN</td>\n",
       "      <td>NaN</td>\n",
       "      <td>NaN</td>\n",
       "      <td>NaN</td>\n",
       "      <td>NaN</td>\n",
       "      <td>NaN</td>\n",
       "    </tr>\n",
       "    <tr>\n",
       "      <th>2</th>\n",
       "      <td>alabama</td>\n",
       "      <td>tuscaloosa</td>\n",
       "      <td>101764</td>\n",
       "      <td>50.0</td>\n",
       "      <td>male</td>\n",
       "      <td>black</td>\n",
       "      <td>shot</td>\n",
       "      <td>NaN</td>\n",
       "      <td>False</td>\n",
       "      <td>False</td>\n",
       "      <td>2005-04-18</td>\n",
       "    </tr>\n",
       "    <tr>\n",
       "      <th>3</th>\n",
       "      <td>alabama</td>\n",
       "      <td>tuscaloosa</td>\n",
       "      <td>101764</td>\n",
       "      <td>23.0</td>\n",
       "      <td>male</td>\n",
       "      <td>black</td>\n",
       "      <td>shot</td>\n",
       "      <td>NaN</td>\n",
       "      <td>False</td>\n",
       "      <td>False</td>\n",
       "      <td>2007-10-14</td>\n",
       "    </tr>\n",
       "    <tr>\n",
       "      <th>4</th>\n",
       "      <td>alabama</td>\n",
       "      <td>tuscaloosa</td>\n",
       "      <td>101764</td>\n",
       "      <td>48.0</td>\n",
       "      <td>male</td>\n",
       "      <td>black</td>\n",
       "      <td>shot</td>\n",
       "      <td>gun</td>\n",
       "      <td>False</td>\n",
       "      <td>False</td>\n",
       "      <td>2014-06-09</td>\n",
       "    </tr>\n",
       "  </tbody>\n",
       "</table>\n",
       "</div>"
      ],
      "text/plain": [
       "     State         City  Population   Age Gender   Race Manner_of_death Armed  \\\n",
       "0  alabama  huntsville4      196620   NaN    NaN    NaN             NaN   NaN   \n",
       "1  alabama  huntsville4      196620   NaN    NaN    NaN             NaN   NaN   \n",
       "2  alabama   tuscaloosa      101764  50.0   male  black            shot   NaN   \n",
       "3  alabama   tuscaloosa      101764  23.0   male  black            shot   NaN   \n",
       "4  alabama   tuscaloosa      101764  48.0   male  black            shot   gun   \n",
       "\n",
       "  Mental_illness   Flee        Date  \n",
       "0            NaN    NaN         NaN  \n",
       "1            NaN    NaN         NaN  \n",
       "2          False  False  2005-04-18  \n",
       "3          False  False  2007-10-14  \n",
       "4          False  False  2014-06-09  "
      ]
     },
     "execution_count": 24,
     "metadata": {},
     "output_type": "execute_result"
    }
   ],
   "source": [
    "data1 = pd.read_csv('C:\\\\Users\\\\Admin/cap_clean1.csv')\n",
    "data1.head(5)"
   ]
  },
  {
   "cell_type": "code",
   "execution_count": 25,
   "id": "024586f1",
   "metadata": {},
   "outputs": [
    {
     "data": {
      "text/html": [
       "<div>\n",
       "<style scoped>\n",
       "    .dataframe tbody tr th:only-of-type {\n",
       "        vertical-align: middle;\n",
       "    }\n",
       "\n",
       "    .dataframe tbody tr th {\n",
       "        vertical-align: top;\n",
       "    }\n",
       "\n",
       "    .dataframe thead th {\n",
       "        text-align: right;\n",
       "    }\n",
       "</style>\n",
       "<table border=\"1\" class=\"dataframe\">\n",
       "  <thead>\n",
       "    <tr style=\"text-align: right;\">\n",
       "      <th></th>\n",
       "      <th>Population</th>\n",
       "      <th>Age</th>\n",
       "      <th>Gender</th>\n",
       "      <th>Race</th>\n",
       "      <th>Manner_of_death</th>\n",
       "      <th>Armed</th>\n",
       "      <th>Mental_illness</th>\n",
       "      <th>Flee</th>\n",
       "      <th>Date</th>\n",
       "    </tr>\n",
       "  </thead>\n",
       "  <tbody>\n",
       "    <tr>\n",
       "      <th>0</th>\n",
       "      <td>196620</td>\n",
       "      <td>NaN</td>\n",
       "      <td>2</td>\n",
       "      <td>-1</td>\n",
       "      <td>-1</td>\n",
       "      <td>-1</td>\n",
       "      <td>2</td>\n",
       "      <td>2</td>\n",
       "      <td>NaN</td>\n",
       "    </tr>\n",
       "    <tr>\n",
       "      <th>1</th>\n",
       "      <td>196620</td>\n",
       "      <td>NaN</td>\n",
       "      <td>2</td>\n",
       "      <td>-1</td>\n",
       "      <td>-1</td>\n",
       "      <td>-1</td>\n",
       "      <td>2</td>\n",
       "      <td>2</td>\n",
       "      <td>NaN</td>\n",
       "    </tr>\n",
       "    <tr>\n",
       "      <th>2</th>\n",
       "      <td>101764</td>\n",
       "      <td>50.0</td>\n",
       "      <td>2</td>\n",
       "      <td>1</td>\n",
       "      <td>1</td>\n",
       "      <td>19</td>\n",
       "      <td>1</td>\n",
       "      <td>1</td>\n",
       "      <td>2005-04-18</td>\n",
       "    </tr>\n",
       "    <tr>\n",
       "      <th>3</th>\n",
       "      <td>101764</td>\n",
       "      <td>23.0</td>\n",
       "      <td>2</td>\n",
       "      <td>1</td>\n",
       "      <td>1</td>\n",
       "      <td>19</td>\n",
       "      <td>1</td>\n",
       "      <td>1</td>\n",
       "      <td>2007-10-14</td>\n",
       "    </tr>\n",
       "    <tr>\n",
       "      <th>4</th>\n",
       "      <td>101764</td>\n",
       "      <td>48.0</td>\n",
       "      <td>2</td>\n",
       "      <td>1</td>\n",
       "      <td>1</td>\n",
       "      <td>8</td>\n",
       "      <td>1</td>\n",
       "      <td>1</td>\n",
       "      <td>2014-06-09</td>\n",
       "    </tr>\n",
       "  </tbody>\n",
       "</table>\n",
       "</div>"
      ],
      "text/plain": [
       "   Population   Age  Gender  Race  Manner_of_death  Armed  Mental_illness  \\\n",
       "0      196620   NaN       2    -1               -1     -1               2   \n",
       "1      196620   NaN       2    -1               -1     -1               2   \n",
       "2      101764  50.0       2     1                1     19               1   \n",
       "3      101764  23.0       2     1                1     19               1   \n",
       "4      101764  48.0       2     1                1      8               1   \n",
       "\n",
       "   Flee        Date  \n",
       "0     2         NaN  \n",
       "1     2         NaN  \n",
       "2     1  2005-04-18  \n",
       "3     1  2007-10-14  \n",
       "4     1  2014-06-09  "
      ]
     },
     "execution_count": 25,
     "metadata": {},
     "output_type": "execute_result"
    }
   ],
   "source": [
    "data = pd.read_csv('C:\\\\Users\\\\Admin/cap_clean2.csv')\n",
    "data.head(5)"
   ]
  },
  {
   "cell_type": "code",
   "execution_count": 26,
   "id": "25b9ce3f",
   "metadata": {},
   "outputs": [
    {
     "data": {
      "image/png": "[encoded data removed]",
      "text/plain": [
       "<Figure size 720x720 with 2 Axes>"
      ]
     },
     "metadata": {
      "needs_background": "light"
     },
     "output_type": "display_data"
    }
   ],
   "source": [
    "plt.figure(figsize=(10,10))\n",
    "sns.heatmap(data.corr(), annot = True, cmap = 'Blues_r')\n",
    "plt.ioff()"
   ]
  },
  {
   "cell_type": "code",
   "execution_count": 27,
   "id": "b52c9b64",
   "metadata": {},
   "outputs": [
    {
     "data": {
      "text/plain": [
       "<bound method DataFrame.corr of       Population   Age  Gender  Armed  Flee  Manner_of_death\n",
       "0         196620   NaN       2     -1     2               -1\n",
       "1         196620   NaN       2     -1     2               -1\n",
       "2         101764  50.0       2     19     1                1\n",
       "3         101764  23.0       2     19     1                1\n",
       "4         101764  48.0       2      8     1                1\n",
       "...          ...   ...     ...    ...   ...              ...\n",
       "8375      595619  46.0       2     19     1                1\n",
       "8376      595619  39.0       2     11     1                1\n",
       "8377      595619  29.0       2     11     1                1\n",
       "8378      595619  37.0       2     19     1                1\n",
       "8379      595619  38.0       2     19     1                1\n",
       "\n",
       "[8380 rows x 6 columns]>"
      ]
     },
     "execution_count": 27,
     "metadata": {},
     "output_type": "execute_result"
    }
   ],
   "source": [
    "data[[\"Population\",\"Age\",\"Gender\", \"Armed\",\"Flee\", \"Manner_of_death\"]].corr"
   ]
  },
  {
   "cell_type": "code",
   "execution_count": 28,
   "id": "690bdbb9",
   "metadata": {},
   "outputs": [],
   "source": [
    "data = data.drop(\"Date\", axis=1)"
   ]
  },
  {
   "cell_type": "code",
   "execution_count": 29,
   "id": "03199cf1",
   "metadata": {},
   "outputs": [
    {
     "data": {
      "text/plain": [
       "Index(['Population', 'Age', 'Gender', 'Race', 'Manner_of_death', 'Armed',\n",
       "       'Mental_illness', 'Flee'],\n",
       "      dtype='object')"
      ]
     },
     "execution_count": 29,
     "metadata": {},
     "output_type": "execute_result"
    }
   ],
   "source": [
    "data.columns"
   ]
  },
  {
   "cell_type": "code",
   "execution_count": 30,
   "id": "928cf096",
   "metadata": {},
   "outputs": [
    {
     "data": {
      "text/plain": [
       "Population           0\n",
       "Age                274\n",
       "Gender               0\n",
       "Race                 0\n",
       "Manner_of_death      0\n",
       "Armed                0\n",
       "Mental_illness       0\n",
       "Flee                 0\n",
       "dtype: int64"
      ]
     },
     "execution_count": 30,
     "metadata": {},
     "output_type": "execute_result"
    }
   ],
   "source": [
    "data.isnull().sum()"
   ]
  },
  {
   "cell_type": "code",
   "execution_count": 31,
   "id": "168b4d40",
   "metadata": {},
   "outputs": [],
   "source": [
    "data = data.dropna()"
   ]
  },
  {
   "cell_type": "code",
   "execution_count": 32,
   "id": "f7695e50",
   "metadata": {},
   "outputs": [
    {
     "data": {
      "text/plain": [
       "Population         0\n",
       "Age                0\n",
       "Gender             0\n",
       "Race               0\n",
       "Manner_of_death    0\n",
       "Armed              0\n",
       "Mental_illness     0\n",
       "Flee               0\n",
       "dtype: int64"
      ]
     },
     "execution_count": 32,
     "metadata": {},
     "output_type": "execute_result"
    }
   ],
   "source": [
    "data.isnull().sum()"
   ]
  },
  {
   "cell_type": "code",
   "execution_count": 33,
   "id": "52eddf5f",
   "metadata": {},
   "outputs": [
    {
     "data": {
      "text/plain": [
       "Population           int64\n",
       "Age                float64\n",
       "Gender               int64\n",
       "Race                 int64\n",
       "Manner_of_death      int64\n",
       "Armed                int64\n",
       "Mental_illness       int64\n",
       "Flee                 int64\n",
       "dtype: object"
      ]
     },
     "execution_count": 33,
     "metadata": {},
     "output_type": "execute_result"
    }
   ],
   "source": [
    "data.dtypes"
   ]
  },
  {
   "cell_type": "code",
   "execution_count": 34,
   "id": "1953f9fd",
   "metadata": {},
   "outputs": [],
   "source": [
    "data['Flee']=np.where(data['Flee']>data['Flee'].mean(), 1, 0)"
   ]
  },
  {
   "cell_type": "code",
   "execution_count": 35,
   "id": "7d542184",
   "metadata": {},
   "outputs": [],
   "source": [
    "#Separating Labels and featureSet columns\n",
    "columns = data.columns.tolist()\n",
    "columns = [c for c in columns if c not in ['Flee']]\n",
    "target = 'Flee'\n",
    "\n",
    "X = data[columns]\n",
    "y = data[target]"
   ]
  },
  {
   "cell_type": "code",
   "execution_count": 36,
   "id": "e8412947",
   "metadata": {},
   "outputs": [
    {
     "name": "stdout",
     "output_type": "stream",
     "text": [
      "Training FeatureSet: (6079, 7)\n",
      "Training Labels: (6079,)\n",
      "Testing FeatureSet: (2027, 7)\n",
      "Testing Labels: (2027,)\n"
     ]
    }
   ],
   "source": [
    "#Splitting data into training and testing sets\n",
    "X_train, X_test, y_train, y_test = train_test_split(X, y, test_size=0.25, random_state=1)\n",
    "\n",
    "print(\"Training FeatureSet:\", X_train.shape)\n",
    "print(\"Training Labels:\", y_train.shape)\n",
    "print(\"Testing FeatureSet:\", X_test.shape)\n",
    "print(\"Testing Labels:\", y_test.shape)"
   ]
  },
  {
   "cell_type": "code",
   "execution_count": 37,
   "id": "32d7da82",
   "metadata": {},
   "outputs": [
    {
     "name": "stdout",
     "output_type": "stream",
     "text": [
      "Random Forrest Accuracy: 96.0\n",
      "Mean Absoulte Error: 4.0\n",
      "Classification Report:\n",
      "               precision    recall  f1-score   support\n",
      "\n",
      "           0       0.96      1.00      0.98      1937\n",
      "           1       0.62      0.06      0.10        90\n",
      "\n",
      "    accuracy                           0.96      2027\n",
      "   macro avg       0.79      0.53      0.54      2027\n",
      "weighted avg       0.94      0.96      0.94      2027\n",
      "\n",
      "Confusion Matrix:\n",
      "         predicted   \n",
      "                 0  1\n",
      "actual 0      1934  3\n",
      "       1        85  5\n"
     ]
    }
   ],
   "source": [
    "#Initializing the model with some parameters.\n",
    "model = RandomForestClassifier(n_estimators=100, min_samples_leaf=10, random_state=1)\n",
    "#Fitting the model to the data.\n",
    "model.fit(X_train, y_train)\n",
    "#Generating predictions for the test set.\n",
    "predictions = model.predict(X_test)\n",
    "#Computing the Model Accuracy\n",
    "print(\"Random Forrest Accuracy:\",round(metrics.accuracy_score(y_test, predictions), 2)*100)\n",
    "#Computing the error.\n",
    "print(\"Mean Absoulte Error:\", round(mean_absolute_error(predictions, y_test), 2)*100)\n",
    "#Computing classification Report\n",
    "print(\"Classification Report:\\n\", classification_report(y_test, predictions))\n",
    "#Plotting confusion matrix\n",
    "print(\"Confusion Matrix:\")\n",
    "df = pd.DataFrame(\n",
    "    confusion_matrix(y_test, predictions),\n",
    "    index = [['actual', 'actual'], ['0','1']],\n",
    "    columns = [['predicted', 'predicted'], ['0','1']])\n",
    "print(df)"
   ]
  },
  {
   "cell_type": "markdown",
   "id": "31997259",
   "metadata": {},
   "source": [
    "# managing imbalanced data set"
   ]
  },
  {
   "cell_type": "code",
   "execution_count": 38,
   "id": "7da0db2c",
   "metadata": {},
   "outputs": [
    {
     "data": {
      "text/html": [
       "<div>\n",
       "<style scoped>\n",
       "    .dataframe tbody tr th:only-of-type {\n",
       "        vertical-align: middle;\n",
       "    }\n",
       "\n",
       "    .dataframe tbody tr th {\n",
       "        vertical-align: top;\n",
       "    }\n",
       "\n",
       "    .dataframe thead th {\n",
       "        text-align: right;\n",
       "    }\n",
       "</style>\n",
       "<table border=\"1\" class=\"dataframe\">\n",
       "  <thead>\n",
       "    <tr style=\"text-align: right;\">\n",
       "      <th></th>\n",
       "      <th>Population</th>\n",
       "      <th>Age</th>\n",
       "      <th>Gender</th>\n",
       "      <th>Race</th>\n",
       "      <th>Manner_of_death</th>\n",
       "      <th>Armed</th>\n",
       "      <th>Mental_illness</th>\n",
       "      <th>Flee</th>\n",
       "    </tr>\n",
       "  </thead>\n",
       "  <tbody>\n",
       "    <tr>\n",
       "      <th>2</th>\n",
       "      <td>101764</td>\n",
       "      <td>50.0</td>\n",
       "      <td>2</td>\n",
       "      <td>1</td>\n",
       "      <td>1</td>\n",
       "      <td>19</td>\n",
       "      <td>1</td>\n",
       "      <td>0</td>\n",
       "    </tr>\n",
       "    <tr>\n",
       "      <th>3</th>\n",
       "      <td>101764</td>\n",
       "      <td>23.0</td>\n",
       "      <td>2</td>\n",
       "      <td>1</td>\n",
       "      <td>1</td>\n",
       "      <td>19</td>\n",
       "      <td>1</td>\n",
       "      <td>0</td>\n",
       "    </tr>\n",
       "    <tr>\n",
       "      <th>4</th>\n",
       "      <td>101764</td>\n",
       "      <td>48.0</td>\n",
       "      <td>2</td>\n",
       "      <td>1</td>\n",
       "      <td>1</td>\n",
       "      <td>8</td>\n",
       "      <td>1</td>\n",
       "      <td>0</td>\n",
       "    </tr>\n",
       "    <tr>\n",
       "      <th>5</th>\n",
       "      <td>101764</td>\n",
       "      <td>50.0</td>\n",
       "      <td>2</td>\n",
       "      <td>6</td>\n",
       "      <td>1</td>\n",
       "      <td>19</td>\n",
       "      <td>1</td>\n",
       "      <td>0</td>\n",
       "    </tr>\n",
       "    <tr>\n",
       "      <th>6</th>\n",
       "      <td>101764</td>\n",
       "      <td>50.0</td>\n",
       "      <td>2</td>\n",
       "      <td>6</td>\n",
       "      <td>2</td>\n",
       "      <td>29</td>\n",
       "      <td>2</td>\n",
       "      <td>0</td>\n",
       "    </tr>\n",
       "  </tbody>\n",
       "</table>\n",
       "</div>"
      ],
      "text/plain": [
       "   Population   Age  Gender  Race  Manner_of_death  Armed  Mental_illness  \\\n",
       "2      101764  50.0       2     1                1     19               1   \n",
       "3      101764  23.0       2     1                1     19               1   \n",
       "4      101764  48.0       2     1                1      8               1   \n",
       "5      101764  50.0       2     6                1     19               1   \n",
       "6      101764  50.0       2     6                2     29               2   \n",
       "\n",
       "   Flee  \n",
       "2     0  \n",
       "3     0  \n",
       "4     0  \n",
       "5     0  \n",
       "6     0  "
      ]
     },
     "execution_count": 38,
     "metadata": {},
     "output_type": "execute_result"
    }
   ],
   "source": [
    "data.head()"
   ]
  },
  {
   "cell_type": "code",
   "execution_count": 39,
   "id": "cac3ebf2",
   "metadata": {},
   "outputs": [],
   "source": [
    "X1 = data.drop(['Flee'], axis=1)\n",
    "y1 = data['Flee']"
   ]
  },
  {
   "cell_type": "code",
   "execution_count": 40,
   "id": "cd6932cc",
   "metadata": {},
   "outputs": [
    {
     "data": {
      "text/plain": [
       "0    7788\n",
       "1     318\n",
       "Name: Flee, dtype: int64"
      ]
     },
     "execution_count": 40,
     "metadata": {},
     "output_type": "execute_result"
    }
   ],
   "source": [
    "y1.value_counts()"
   ]
  },
  {
   "cell_type": "code",
   "execution_count": 41,
   "id": "cc651ac9",
   "metadata": {},
   "outputs": [
    {
     "data": {
      "text/plain": [
       "<AxesSubplot:ylabel='Flee'>"
      ]
     },
     "execution_count": 41,
     "metadata": {},
     "output_type": "execute_result"
    },
    {
     "data": {
      "image/png": "[encoded data removed]",
      "text/plain": [
       "<Figure size 432x288 with 1 Axes>"
      ]
     },
     "metadata": {},
     "output_type": "display_data"
    }
   ],
   "source": [
    "# Show pie plot (Approach 1)\n",
    "y1.value_counts().plot.pie(autopct='%.2f')"
   ]
  },
  {
   "cell_type": "markdown",
   "id": "c17838f4",
   "metadata": {},
   "source": [
    "# Random Undersampling"
   ]
  },
  {
   "cell_type": "code",
   "execution_count": 42,
   "id": "09cb84b1",
   "metadata": {},
   "outputs": [
    {
     "data": {
      "image/png": "[encoded data removed]",
      "text/plain": [
       "<Figure size 432x288 with 1 Axes>"
      ]
     },
     "metadata": {},
     "output_type": "display_data"
    }
   ],
   "source": [
    "from imblearn.under_sampling import RandomUnderSampler\n",
    "\n",
    "rus = RandomUnderSampler(sampling_strategy=1) # Numerical value\n",
    "# rus = RandomUnderSampler(sampling_strategy=\"not minority\") # String\n",
    "X1_res, y1_res = rus.fit_resample(X1, y1)\n",
    "\n",
    "ax = y1_res.value_counts().plot.pie(autopct='%.2f')\n",
    "_ = ax.set_title(\"Under-sampling\")"
   ]
  },
  {
   "cell_type": "code",
   "execution_count": 43,
   "id": "e924dd93",
   "metadata": {},
   "outputs": [
    {
     "data": {
      "text/plain": [
       "0    318\n",
       "1    318\n",
       "Name: Flee, dtype: int64"
      ]
     },
     "execution_count": 43,
     "metadata": {},
     "output_type": "execute_result"
    }
   ],
   "source": [
    "# Class distribution\n",
    "y1_res.value_counts()"
   ]
  },
  {
   "cell_type": "markdown",
   "id": "dc63761d",
   "metadata": {},
   "source": [
    "# Random Oversampling"
   ]
  },
  {
   "cell_type": "code",
   "execution_count": 44,
   "id": "d12891a9",
   "metadata": {},
   "outputs": [
    {
     "data": {
      "image/png": "[encoded data removed]",
      "text/plain": [
       "<Figure size 432x288 with 1 Axes>"
      ]
     },
     "metadata": {},
     "output_type": "display_data"
    }
   ],
   "source": [
    "from imblearn.over_sampling import RandomOverSampler\n",
    "\n",
    "#ros = RandomOverSampler(sampling_strategy=1) # Float\n",
    "ros = RandomOverSampler(sampling_strategy=\"not majority\") # String\n",
    "X2_res, y2_res = ros.fit_resample(X1, y1)\n",
    "\n",
    "ax = y2_res.value_counts().plot.pie(autopct='%.2f')\n",
    "_ = ax.set_title(\"Over-sampling\")"
   ]
  },
  {
   "cell_type": "code",
   "execution_count": 45,
   "id": "35d27acc",
   "metadata": {},
   "outputs": [
    {
     "data": {
      "text/plain": [
       "0    7788\n",
       "1    7788\n",
       "Name: Flee, dtype: int64"
      ]
     },
     "execution_count": 45,
     "metadata": {},
     "output_type": "execute_result"
    }
   ],
   "source": [
    "y2_res.value_counts()"
   ]
  },
  {
   "cell_type": "code",
   "execution_count": null,
   "id": "42f7f88e",
   "metadata": {},
   "outputs": [],
   "source": []
  },
  {
   "cell_type": "markdown",
   "id": "97015979",
   "metadata": {},
   "source": [
    "UNDERSAMPLING"
   ]
  },
  {
   "cell_type": "code",
   "execution_count": 46,
   "id": "9723236c",
   "metadata": {},
   "outputs": [
    {
     "name": "stdout",
     "output_type": "stream",
     "text": [
      "Training FeatureSet: (477, 7)\n",
      "Training Labels: (477,)\n",
      "Testing FeatureSet: (159, 7)\n",
      "Testing Labels: (159,)\n"
     ]
    }
   ],
   "source": [
    "#Splitting data into training and testing sets\n",
    "X1_train, X1_test, y1_train, y1_test = train_test_split(X1_res, y1_res, test_size=0.25, random_state=1)\n",
    "\n",
    "print(\"Training FeatureSet:\", X1_train.shape)\n",
    "print(\"Training Labels:\", y1_train.shape)\n",
    "print(\"Testing FeatureSet:\", X1_test.shape)\n",
    "print(\"Testing Labels:\", y1_test.shape)"
   ]
  },
  {
   "cell_type": "code",
   "execution_count": 47,
   "id": "f43ce029",
   "metadata": {},
   "outputs": [
    {
     "name": "stdout",
     "output_type": "stream",
     "text": [
      "Random Forrest Accuracy: 74.0\n",
      "Mean Absoulte Error: 26.0\n",
      "Classification Report:\n",
      "               precision    recall  f1-score   support\n",
      "\n",
      "           0       0.72      0.75      0.73        75\n",
      "           1       0.77      0.74      0.75        84\n",
      "\n",
      "    accuracy                           0.74       159\n",
      "   macro avg       0.74      0.74      0.74       159\n",
      "weighted avg       0.74      0.74      0.74       159\n",
      "\n",
      "Confusion Matrix:\n",
      "         predicted    \n",
      "                 0   1\n",
      "actual 0        56  19\n",
      "       1        22  62\n"
     ]
    }
   ],
   "source": [
    "#Initializing the model with some parameters.\n",
    "model = RandomForestClassifier(n_estimators=100, min_samples_leaf=10, random_state=1)\n",
    "#Fitting the model to the data.\n",
    "model.fit(X1_train, y1_train)\n",
    "#Generating predictions for the test set.\n",
    "predictions = model.predict(X1_test)\n",
    "#Computing the Model Accuracy\n",
    "print(\"Random Forrest Accuracy:\",round(metrics.accuracy_score(y1_test, predictions), 2)*100)\n",
    "#Computing the error.\n",
    "print(\"Mean Absoulte Error:\", round(mean_absolute_error(predictions, y1_test), 2)*100)\n",
    "#Computing classification Report\n",
    "print(\"Classification Report:\\n\", classification_report(y1_test, predictions))\n",
    "#Plotting confusion matrix\n",
    "print(\"Confusion Matrix:\")\n",
    "df = pd.DataFrame(\n",
    "    confusion_matrix(y1_test, predictions),\n",
    "    index = [['actual', 'actual'], ['0','1']],\n",
    "    columns = [['predicted', 'predicted'], ['0','1']])\n",
    "print(df)"
   ]
  },
  {
   "cell_type": "markdown",
   "id": "d87197fc",
   "metadata": {},
   "source": [
    "OVERSAMPLING"
   ]
  },
  {
   "cell_type": "code",
   "execution_count": 48,
   "id": "6bf1f8d5",
   "metadata": {},
   "outputs": [
    {
     "name": "stdout",
     "output_type": "stream",
     "text": [
      "Training FeatureSet: (11682, 7)\n",
      "Training Labels: (11682,)\n",
      "Testing FeatureSet: (3894, 7)\n",
      "Testing Labels: (3894,)\n"
     ]
    }
   ],
   "source": [
    "#Splitting data into training and testing sets\n",
    "X2_train, X2_test, y2_train, y2_test = train_test_split(X2_res, y2_res, test_size=0.25, random_state=1)\n",
    "\n",
    "print(\"Training FeatureSet:\", X2_train.shape)\n",
    "print(\"Training Labels:\", y2_train.shape)\n",
    "print(\"Testing FeatureSet:\", X2_test.shape)\n",
    "print(\"Testing Labels:\", y2_test.shape)"
   ]
  },
  {
   "cell_type": "code",
   "execution_count": 49,
   "id": "5ef4a60b",
   "metadata": {},
   "outputs": [
    {
     "name": "stdout",
     "output_type": "stream",
     "text": [
      "Random Forrest Accuracy: 94.0\n",
      "Mean Absoulte Error: 6.0\n",
      "Classification Report:\n",
      "               precision    recall  f1-score   support\n",
      "\n",
      "           0       0.99      0.89      0.94      1928\n",
      "           1       0.90      0.99      0.94      1966\n",
      "\n",
      "    accuracy                           0.94      3894\n",
      "   macro avg       0.94      0.94      0.94      3894\n",
      "weighted avg       0.94      0.94      0.94      3894\n",
      "\n",
      "Confusion Matrix:\n",
      "         predicted      \n",
      "                 0     1\n",
      "actual 0      1721   207\n",
      "       1        24  1942\n"
     ]
    }
   ],
   "source": [
    "#Initializing the model with some parameters.\n",
    "model = RandomForestClassifier(n_estimators=100, min_samples_leaf=10, random_state=1)\n",
    "#Fitting the model to the data.\n",
    "model.fit(X2_train, y2_train)\n",
    "#Generating predictions for the test set.\n",
    "predictions = model.predict(X2_test)\n",
    "#Computing the Model Accuracy\n",
    "print(\"Random Forrest Accuracy:\",round(metrics.accuracy_score(y2_test, predictions), 2)*100)\n",
    "#Computing the error.\n",
    "print(\"Mean Absoulte Error:\", round(mean_absolute_error(predictions, y2_test), 2)*100)\n",
    "#Computing classification Report\n",
    "print(\"Classification Report:\\n\", classification_report(y2_test, predictions))\n",
    "#Plotting confusion matrix\n",
    "print(\"Confusion Matrix:\")\n",
    "df = pd.DataFrame(\n",
    "    confusion_matrix(y2_test, predictions),\n",
    "    index = [['actual', 'actual'], ['0','1']],\n",
    "    columns = [['predicted', 'predicted'], ['0','1']])\n",
    "print(df)"
   ]
  },
  {
   "cell_type": "markdown",
   "id": "fa8f675e",
   "metadata": {},
   "source": [
    "# Build classification model"
   ]
  },
  {
   "cell_type": "code",
   "execution_count": 50,
   "id": "e1ed3cca",
   "metadata": {},
   "outputs": [],
   "source": [
    "from sklearn.ensemble import RandomForestClassifier\n",
    "from sklearn.naive_bayes import GaussianNB"
   ]
  },
  {
   "cell_type": "markdown",
   "id": "fe2fc6f1",
   "metadata": {},
   "source": [
    "Random Forest"
   ]
  },
  {
   "cell_type": "code",
   "execution_count": 51,
   "id": "7a3a8e31",
   "metadata": {},
   "outputs": [
    {
     "data": {
      "text/plain": [
       "RandomForestClassifier(max_features=5, n_estimators=500)"
      ]
     },
     "execution_count": 51,
     "metadata": {},
     "output_type": "execute_result"
    }
   ],
   "source": [
    "rf = RandomForestClassifier(max_features=5, n_estimators=500)\n",
    "rf.fit(X2_train, y2_train)"
   ]
  },
  {
   "cell_type": "markdown",
   "id": "0761a30b",
   "metadata": {},
   "source": [
    "Naive Bayes"
   ]
  },
  {
   "cell_type": "code",
   "execution_count": 52,
   "id": "e8c85e81",
   "metadata": {},
   "outputs": [
    {
     "data": {
      "text/plain": [
       "GaussianNB()"
      ]
     },
     "execution_count": 52,
     "metadata": {},
     "output_type": "execute_result"
    }
   ],
   "source": [
    "nb = GaussianNB()\n",
    "nb.fit(X2_train, y2_train)"
   ]
  },
  {
   "cell_type": "markdown",
   "id": "99e48c87",
   "metadata": {},
   "source": [
    "Prediction probabilities"
   ]
  },
  {
   "cell_type": "code",
   "execution_count": 54,
   "id": "3fe52ecf",
   "metadata": {},
   "outputs": [],
   "source": [
    "r_probs = [0 for _ in range(len(y2_test))]\n",
    "rf_probs = rf.predict_proba(X2_test)\n",
    "nb_probs = nb.predict_proba(X2_test)"
   ]
  },
  {
   "cell_type": "markdown",
   "id": "e140efe6",
   "metadata": {},
   "source": [
    "Probabilities for the positive outcome is kept."
   ]
  },
  {
   "cell_type": "code",
   "execution_count": 55,
   "id": "a6f6eb8b",
   "metadata": {},
   "outputs": [],
   "source": [
    "rf_probs = rf_probs[:, 0]\n",
    "nb_probs = nb_probs[:, 1]"
   ]
  },
  {
   "cell_type": "markdown",
   "id": "583b30ab",
   "metadata": {},
   "source": [
    "Computing AUROC and ROC curve values"
   ]
  },
  {
   "cell_type": "code",
   "execution_count": 56,
   "id": "cbcca21d",
   "metadata": {},
   "outputs": [],
   "source": [
    "from sklearn.metrics import roc_curve, roc_auc_score"
   ]
  },
  {
   "cell_type": "markdown",
   "id": "c5350822",
   "metadata": {},
   "source": [
    "Calculate AUROC ###ROC is the receiver operating characteristic AUROC is the area under the ROC curve"
   ]
  },
  {
   "cell_type": "code",
   "execution_count": 57,
   "id": "5dc619cc",
   "metadata": {},
   "outputs": [],
   "source": [
    "r_auc = roc_auc_score(y2_test, r_probs)\n",
    "rf_auc = roc_auc_score(y2_test, rf_probs)\n",
    "nb_auc = roc_auc_score(y2_test, nb_probs)"
   ]
  },
  {
   "cell_type": "markdown",
   "id": "e78bf6b9",
   "metadata": {},
   "source": [
    "Print AUROC scores"
   ]
  },
  {
   "cell_type": "code",
   "execution_count": 58,
   "id": "0dd30be0",
   "metadata": {},
   "outputs": [
    {
     "name": "stdout",
     "output_type": "stream",
     "text": [
      "Random (chance) Prediction: AUROC = 0.500\n",
      "Random Forest: AUROC = 0.003\n",
      "Naive Bayes: AUROC = 0.585\n"
     ]
    }
   ],
   "source": [
    "print('Random (chance) Prediction: AUROC = %.3f' % (r_auc))\n",
    "print('Random Forest: AUROC = %.3f' % (rf_auc))\n",
    "print('Naive Bayes: AUROC = %.3f' % (nb_auc))"
   ]
  },
  {
   "cell_type": "markdown",
   "id": "7faebc4d",
   "metadata": {},
   "source": [
    "Calculate ROC curve"
   ]
  },
  {
   "cell_type": "code",
   "execution_count": 59,
   "id": "20b931e2",
   "metadata": {},
   "outputs": [],
   "source": [
    "r_fpr, r_tpr, _ = roc_curve(y2_test, r_probs)\n",
    "rf_fpr, rf_tpr, _ = roc_curve(y2_test, rf_probs)\n",
    "nb_fpr, nb_tpr, _ = roc_curve(y2_test, nb_probs)"
   ]
  },
  {
   "cell_type": "markdown",
   "id": "a26f1f1f",
   "metadata": {},
   "source": [
    "Plot the ROC curve"
   ]
  },
  {
   "cell_type": "code",
   "execution_count": 60,
   "id": "e2ba98d5",
   "metadata": {},
   "outputs": [],
   "source": [
    "import matplotlib.pyplot as plt"
   ]
  },
  {
   "cell_type": "code",
   "execution_count": 61,
   "id": "888bb23c",
   "metadata": {},
   "outputs": [
    {
     "data": {
      "image/png": "[encoded data removed]",
      "text/plain": [
       "<Figure size 432x288 with 1 Axes>"
      ]
     },
     "metadata": {
      "needs_background": "light"
     },
     "output_type": "display_data"
    }
   ],
   "source": [
    "plt.plot(r_fpr, r_tpr, linestyle='--', label='Random prediction (AUROC = %0.3f)' % r_auc)\n",
    "plt.plot(rf_fpr, rf_tpr, marker='.', label='Random Forest (AUROC = %0.3f)' % rf_auc)\n",
    "plt.plot(nb_fpr, nb_tpr, marker='.', label='Naive Bayes (AUROC = %0.3f)' % nb_auc)\n",
    "\n",
    "# Title\n",
    "plt.title('ROC Plot')\n",
    "# Axis labels\n",
    "plt.xlabel('False Positive Rate')\n",
    "plt.ylabel('True Positive Rate')\n",
    "# Show legend\n",
    "plt.legend() # \n",
    "# Show plot\n",
    "plt.show()"
   ]
  },
  {
   "cell_type": "code",
   "execution_count": null,
   "id": "b20f25d4",
   "metadata": {},
   "outputs": [],
   "source": []
  }
 ],
 "metadata": {
  "kernelspec": {
   "display_name": "Python 3",
   "language": "python",
   "name": "python3"
  },
  "language_info": {
   "codemirror_mode": {
    "name": "ipython",
    "version": 3
   },
   "file_extension": ".py",
   "mimetype": "text/x-python",
   "name": "python",
   "nbconvert_exporter": "python",
   "pygments_lexer": "ipython3",
   "version": "3.8.8"
  }
 },
 "nbformat": 4,
 "nbformat_minor": 5
}
